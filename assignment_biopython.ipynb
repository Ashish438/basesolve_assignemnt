{
 "cells": [
  {
   "cell_type": "code",
   "execution_count": 8,
   "id": "a72f3399",
   "metadata": {},
   "outputs": [
    {
     "name": "stdout",
     "output_type": "stream",
     "text": [
      "Output BED and fasta file successfully created\n"
     ]
    }
   ],
   "source": [
    "from Bio.SeqIO import parse, write\n",
    "from Bio.Seq import reverse_complement\n",
    "\n",
    "input_fasta_file_path = r'C:\\Users\\dell\\Desktop\\basecalls_assignment\\input_fasta.fasta'\n",
    "output_fasta_file_name = 'output_fasta_biopython.fasta'\n",
    "bed_filename = 'output_BED_biopython.bed'\n",
    "\n",
    "# dict storing all the GIds from which subsequence has to be fetched along with the start and end coordinates\n",
    "gids_dict = {'661921128': '100-200', '1779817629': '1200-1500', '1839253191': '650-1550'}\n",
    "\n",
    "fasta_records = parse(input_fasta_file_path,'fasta')\n",
    "final_dict = {} # will contain extracted subsequences\n",
    "modified_records = [] # will contain list of modified seq records\n",
    "\n",
    "# opening the output bed file in write mode\n",
    "fw_bed = open(bed_filename, 'w')\n",
    "\n",
    "# opening the output fasta file in write mode\n",
    "fw_fasta = open(output_fasta_file_name, 'w')\n",
    "\n",
    "for rec in fasta_records:\n",
    "    gid = rec.id.split('|')[1]\n",
    "    if gid in gids_dict:\n",
    "        coords = gids_dict[gid].split('-')\n",
    "        start_coord = int(coords[0]) - 1\n",
    "        end_coord = int(coords[1])\n",
    "        bed_line = gid + '\\t' + str(start_coord) + '\\t' + str(end_coord) + '\\n'\n",
    "        fw_bed.write(bed_line)\n",
    "        subseq = rec.seq[start_coord:end_coord]\n",
    "        final_dict[gid] = subseq\n",
    "        rev_comp_subseq = reverse_complement(subseq)\n",
    "        rec.seq = rec.seq[:start_coord] + rev_comp_subseq + rec.seq[end_coord:]\n",
    "        \n",
    "    modified_records.append(rec)\n",
    "\n",
    "fw_bed.close()\n",
    "write(modified_records, fw_fasta, \"fasta\")\n",
    "fw_fasta.close()\n",
    "print('Output BED and fasta file successfully created')"
   ]
  }
 ],
 "metadata": {
  "kernelspec": {
   "display_name": "Python 3 (ipykernel)",
   "language": "python",
   "name": "python3"
  },
  "language_info": {
   "codemirror_mode": {
    "name": "ipython",
    "version": 3
   },
   "file_extension": ".py",
   "mimetype": "text/x-python",
   "name": "python",
   "nbconvert_exporter": "python",
   "pygments_lexer": "ipython3",
   "version": "3.7.0"
  }
 },
 "nbformat": 4,
 "nbformat_minor": 5
}
