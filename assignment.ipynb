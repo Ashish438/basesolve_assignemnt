{
 "cells": [
  {
   "cell_type": "code",
   "execution_count": 64,
   "id": "8691bb7a",
   "metadata": {},
   "outputs": [
    {
     "name": "stdout",
     "output_type": "stream",
     "text": [
      "Output BED file has been successfully created\n"
     ]
    }
   ],
   "source": [
    "input_fasta_file_path = r'C:\\Users\\dell\\Desktop\\basecalls_assignment\\input_fasta.fasta'\n",
    "bed_filename = 'output.bed'\n",
    "\n",
    "\n",
    "# opening the input fasta file in read mode\n",
    "fr = open(input_fasta_file_path, 'r')\n",
    "\n",
    "# opening the output bed file in write mode\n",
    "fw_bed = open(bed_filename, 'w')\n",
    "\n",
    "# dict storing all the GIds from which subsequence has to be fetched along with the start and end coordinates\n",
    "gids_dict = {'661921128': '100-200', '1779817629': '1200-1500', '1839253191': '650-1550'}\n",
    "\n",
    "# this dictionary will store the sequence ids as keys and the subsequence as its values\n",
    "final_dict = {}\n",
    "\n",
    "# this variable is used to fetch entire sequences as a single string from the multi fasta file from which we fetch the subsequence \n",
    "seq = \"\"\n",
    "\n",
    "# reading multi fasta file line by line\n",
    "for line in fr:\n",
    "    line = line.rstrip('\\n') # removing '\\n' from the line\n",
    "    if '>' in line: # if line has '>' sign\n",
    "        if seq != \"\": # this condition checks if seq is not equal to an empty string\n",
    "            coords = gids_dict[gid].split('-')\n",
    "            start_coord = int(coords[0]) - 1\n",
    "            end_coord = int(coords[1])\n",
    "            final_dict[gid] = seq[start_coord: end_coord] # adding sub sequence to the final dict with id as the key\n",
    "            seq = \"\" # again converting seq to an empty string\n",
    "            \n",
    "            # writing contents to the BED file\n",
    "            # BED format used 0 based coordinate system for start coordinates and 1 based for end coordinate\n",
    "            # which is the same way in which we specify a range in python\n",
    "            bed_line = gid + '\\t' + str(start_coord) + '\\t' + str(end_coord) + '\\n'\n",
    "            fw_bed.write(bed_line)\n",
    "\n",
    "        gid = line.split('|')[1] # extracting only id from the header line\n",
    "        \n",
    "        if gid in gids_dict: # check if the id is present in the dict of our required ids\n",
    "            found = 1 # setting the value of found to 1\n",
    "            continue # continue the loop\n",
    "            \n",
    "        else: # if the id is not found in the list of our required ids\n",
    "            found = 0 # setting the value of found to 0\n",
    "            \n",
    "    # this code will execute only when found = 1\n",
    "    # that is when we found any of the required ids in the multi fasta file\n",
    "    if found == 1:\n",
    "        seq += line # we start building the sequence by adding line to the seq variable\n",
    "        \n",
    "# closing the input file\n",
    "fr.close()\n",
    "\n",
    "# closing the output BED file\n",
    "fw_bed.close()\n",
    "\n",
    "print('Output BED file has been successfully created')"
   ]
  },
  {
   "cell_type": "code",
   "execution_count": 65,
   "id": "58ae4bde",
   "metadata": {},
   "outputs": [
    {
     "data": {
      "text/plain": [
       "{'661921128': 'AATATTAAACCTCTTTCTGATGGTCTCTATAAACGATTGATTTTTCTTACCCTCTAGAGTTTCCTACGGTCGTGGGTCACACATTTTTTTCTAGACACTAA',\n",
       " '1779817629': 'CAAATCTTATCATTGGTCGGTGTTTGGTCTTGCTTTGTGACTTTGATAATAACATCGATTCCCATATGATGTTTGTTTTCTTCTTCAGTACACGAGGATGAAGATTGTTGAAGACTAGTAGGCATAGCAGCTGCCACTAGGCACATGCATGCCAGGACAATATATTGTTTCATGATTGCTATTGATTGATTACTGTTCTAGATGATTCTACTTTCTTACCATATAATAAATTAGAATATATTTTCTACTTTTACGAGAAATTAATTATTGTATTTATTATTTATAGGTAAAAAAACTTACT',\n",
       " '1839253191': 'TTTTGTTGAATCGATGAGTGAAGTATCATCGGTTGCACCTTCAGATGCCGATCCGTCGACATACTTGAATCCATCCTTGACTTCAAGTTCAGATGATTCCTCACACATGTCTCCGATACGTACGCTAAACTCTAGGTTCTTGACACATTTTGTATCAACGATCGTTGAACCGATGATATCTTTGTAACTCACTTTCTTATGTGAGATGTTAGACCCAAGTACTGGATGGGTCTTGATGTCACTGTCTTTCTCTTCTTCGCTACATCTGATGTCGATAGACATCTCACAGTCTTTGATCATAGCCAGAGCTTCTTCACGCGTGATCGCGGGAGAGTCCTTACCTTGTCCCGGTGACACGCTGGACAATCTAGTATTCACAGTGTTTCCATCAGAGGATTCGGAGATGGATGAAATCTTTGGGCATTTGGTGAATCCAAAGTTCATGTTAAGACCCGCACCGACGATAGTGTAATAAGTGGTGGGATCTCCTTTTACAACTTCTTCGGATACCTCATCATCTTCGGTCTCTGTAACTTCCGTTACGGATTGACAAATCTTATCATTGGTCGGTGTTTGGTCTTGCTTTGTGACTTTGATAATAACATCGATTCCCATATGATGTTTGTTTTCTTCTTCAGTACACGAGGATGAAGATTGTTGAAGACTAGTAGGCATAGCAGCTGCCACTAGGCACATGCATGCCAGGACAATATATTGTTTCATGATTGCTATTGATTGATTACTGTTCTAGATGATTCTACTTTCTTACCATATAATAAATTAGAATATATTTTCTACTTTTACGAGAAATTAATTATTGTATTTATTATTTATAGGTAAAAAAAACTTACTATAAGTGGGTGGGATTCTGGGAATTAGTGATCAGTTTATGTATATCGCA'}"
      ]
     },
     "execution_count": 65,
     "metadata": {},
     "output_type": "execute_result"
    }
   ],
   "source": [
    "final_dict"
   ]
  },
  {
   "cell_type": "code",
   "execution_count": 66,
   "id": "927ad852",
   "metadata": {},
   "outputs": [],
   "source": [
    "# reverse complementing the extracted subsequences\n",
    "\n",
    "def rev_comp(seq):\n",
    "    comp_bases = {'A':'T', 'T':'A', 'G':'C', 'C':'G'}\n",
    "    complement = \"\" # this will store the complement of a sequence\n",
    "    for i in range(len(seq)):\n",
    "        complement += comp_bases[seq[i]]\n",
    "    rev_comp = complement[::-1] # reversing the complement sequence\n",
    "    return rev_comp\n",
    "\n",
    "final_dict_rev_comp = {}\n",
    "for gid in final_dict:\n",
    "    final_dict_rev_comp[gid] = rev_comp(final_dict[gid])"
   ]
  },
  {
   "cell_type": "code",
   "execution_count": 67,
   "id": "c9a90253",
   "metadata": {},
   "outputs": [
    {
     "data": {
      "text/plain": [
       "{'661921128': 'TTAGTGTCTAGAAAAAAATGTGTGACCCACGACCGTAGGAAACTCTAGAGGGTAAGAAAAATCAATCGTTTATAGAGACCATCAGAAAGAGGTTTAATATT',\n",
       " '1779817629': 'AGTAAGTTTTTTTACCTATAAATAATAAATACAATAATTAATTTCTCGTAAAAGTAGAAAATATATTCTAATTTATTATATGGTAAGAAAGTAGAATCATCTAGAACAGTAATCAATCAATAGCAATCATGAAACAATATATTGTCCTGGCATGCATGTGCCTAGTGGCAGCTGCTATGCCTACTAGTCTTCAACAATCTTCATCCTCGTGTACTGAAGAAGAAAACAAACATCATATGGGAATCGATGTTATTATCAAAGTCACAAAGCAAGACCAAACACCGACCAATGATAAGATTTG',\n",
       " '1839253191': 'TGCGATATACATAAACTGATCACTAATTCCCAGAATCCCACCCACTTATAGTAAGTTTTTTTTACCTATAAATAATAAATACAATAATTAATTTCTCGTAAAAGTAGAAAATATATTCTAATTTATTATATGGTAAGAAAGTAGAATCATCTAGAACAGTAATCAATCAATAGCAATCATGAAACAATATATTGTCCTGGCATGCATGTGCCTAGTGGCAGCTGCTATGCCTACTAGTCTTCAACAATCTTCATCCTCGTGTACTGAAGAAGAAAACAAACATCATATGGGAATCGATGTTATTATCAAAGTCACAAAGCAAGACCAAACACCGACCAATGATAAGATTTGTCAATCCGTAACGGAAGTTACAGAGACCGAAGATGATGAGGTATCCGAAGAAGTTGTAAAAGGAGATCCCACCACTTATTACACTATCGTCGGTGCGGGTCTTAACATGAACTTTGGATTCACCAAATGCCCAAAGATTTCATCCATCTCCGAATCCTCTGATGGAAACACTGTGAATACTAGATTGTCCAGCGTGTCACCGGGACAAGGTAAGGACTCTCCCGCGATCACGCGTGAAGAAGCTCTGGCTATGATCAAAGACTGTGAGATGTCTATCGACATCAGATGTAGCGAAGAAGAGAAAGACAGTGACATCAAGACCCATCCAGTACTTGGGTCTAACATCTCACATAAGAAAGTGAGTTACAAAGATATCATCGGTTCAACGATCGTTGATACAAAATGTGTCAAGAACCTAGAGTTTAGCGTACGTATCGGAGACATGTGTGAGGAATCATCTGAACTTGAAGTCAAGGATGGATTCAAGTATGTCGACGGATCGGCATCTGAAGGTGCAACCGATGATACTTCACTCATCGATTCAACAAAA'}"
      ]
     },
     "execution_count": 67,
     "metadata": {},
     "output_type": "execute_result"
    }
   ],
   "source": [
    "final_dict_rev_comp"
   ]
  },
  {
   "cell_type": "code",
   "execution_count": 107,
   "id": "6d3f85e8",
   "metadata": {},
   "outputs": [
    {
     "name": "stdout",
     "output_type": "stream",
     "text": [
      "Output fasta file has been successfully created\n"
     ]
    }
   ],
   "source": [
    "# now adding back the reverse complemented sub sequences to the original sequences and creating a new output fasta file\n",
    "\n",
    "output_fasta_filename = 'output.fasta'\n",
    "\n",
    "# opening the input fasta file in read mode\n",
    "fr = open(input_fasta_file_path, 'r')\n",
    "\n",
    "# opening the output fasta file in write mode\n",
    "fw_fasta = open(output_fasta_filename, 'w')\n",
    "\n",
    "# reading multi fasta file line by line\n",
    "seq = \"\"\n",
    "header = \"\"\n",
    "for line in fr:\n",
    "    line = line.rstrip('\\n') # removing '\\n' from the line\n",
    "    if '>' in line: # if line has '>' sign\n",
    "        if seq != \"\":\n",
    "            if found == 1: # if we are on a requried gid\n",
    "                coords = gids_dict[gid].split('-')\n",
    "                start_coord = int(coords[0]) - 1\n",
    "                end_coord = int(coords[1])\n",
    "                # replacing original sequence with reverse complemented subsequence within its respective coordinates\n",
    "                seq = seq[:start_coord] + final_dict_rev_comp[gid] + seq[end_coord:]\n",
    "            \n",
    "            fw_fasta.write(header + '\\n')\n",
    "            fw_fasta.write(seq + '\\n')\n",
    "            seq = \"\"\n",
    "            \n",
    "        gid = line.split('|')[1] # extracting only id from the header line\n",
    "        header = line # storing header for writing in fasta file\n",
    "        \n",
    "        if gid in final_dict_rev_comp:\n",
    "            found = 1\n",
    "        else:\n",
    "            found = 0\n",
    "             \n",
    "    else:\n",
    "        seq += line\n",
    "\n",
    "fr.close()\n",
    "fw_fasta.close()\n",
    "\n",
    "print('Output fasta file has been successfully created')"
   ]
  }
 ],
 "metadata": {
  "kernelspec": {
   "display_name": "Python 3 (ipykernel)",
   "language": "python",
   "name": "python3"
  },
  "language_info": {
   "codemirror_mode": {
    "name": "ipython",
    "version": 3
   },
   "file_extension": ".py",
   "mimetype": "text/x-python",
   "name": "python",
   "nbconvert_exporter": "python",
   "pygments_lexer": "ipython3",
   "version": "3.7.0"
  }
 },
 "nbformat": 4,
 "nbformat_minor": 5
}
